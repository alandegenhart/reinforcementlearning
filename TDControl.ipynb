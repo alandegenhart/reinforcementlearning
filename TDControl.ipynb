{
 "cells": [
  {
   "cell_type": "markdown",
   "metadata": {},
   "source": [
    "## TD control\n",
    "This notebook provides examples of different temporal difference-based approaches to control."
   ]
  },
  {
   "cell_type": "markdown",
   "metadata": {},
   "source": [
    "### Setup\n",
    "Load the required modules as well as some other standard ones that might be needed."
   ]
  },
  {
   "cell_type": "code",
   "execution_count": 132,
   "metadata": {},
   "outputs": [
    {
     "name": "stdout",
     "output_type": "stream",
     "text": [
      "Open AI Gym version: 0.15.4\n",
      "The autoreload extension is already loaded. To reload it, use:\n",
      "  %reload_ext autoreload\n"
     ]
    }
   ],
   "source": [
    "# Setup environment and import standard modules\n",
    "import sys\n",
    "import os\n",
    "import datetime\n",
    "import numpy as np\n",
    "import pandas as pd\n",
    "\n",
    "# Import numerical libraries (skip these for now)\n",
    "#import sklearn as skl\n",
    "#from sklearn import linear_model, metrics\n",
    "#import tensorflow as tf\n",
    "#from tensorflow import keras\n",
    "#print('Tensorflow version: {}'.format(tf.__version__))\n",
    "\n",
    "# Set up plotting (inline)\n",
    "import matplotlib as mpl\n",
    "import matplotlib.pyplot as plt\n",
    "%matplotlib inline\n",
    "%config InlineBackend.figure_format = 'retina'\n",
    "\n",
    "# Import custom modules\n",
    "#sys.path.append(os.path.join(os.getcwd(), 'modules'))\n",
    "#import plottools as pt\n",
    "\n",
    "# Import OpenAI Gym\n",
    "import gym\n",
    "print('Open AI Gym version: {}'.format(gym.__version__))\n",
    "\n",
    "# Autoreload (see https://ipython.readthedocs.io/en/stable/config/extensions/autoreload.html)\n",
    "%load_ext autoreload\n",
    "%autoreload 2"
   ]
  },
  {
   "cell_type": "markdown",
   "metadata": {},
   "source": [
    "### On-policy TD control (Sarsa)"
   ]
  },
  {
   "cell_type": "code",
   "execution_count": 159,
   "metadata": {},
   "outputs": [
    {
     "name": "stdout",
     "output_type": "stream",
     "text": [
      "Episode 5000 finished: reward rate = 0.3048\n",
      "Episode 10000 finished: reward rate = 0.3996\n",
      "Episode 15000 finished: reward rate = 0.4038\n",
      "Episode 20000 finished: reward rate = 0.404\n",
      "Episode 25000 finished: reward rate = 0.4102\n",
      "Episode 30000 finished: reward rate = 0.4004\n",
      "Episode 35000 finished: reward rate = 0.3872\n",
      "Episode 40000 finished: reward rate = 0.4028\n",
      "Episode 45000 finished: reward rate = 0.391\n",
      "Episode 50000 finished: reward rate = 0.3946\n",
      "Episode 55000 finished: reward rate = 0.415\n",
      "Episode 60000 finished: reward rate = 0.411\n",
      "Episode 65000 finished: reward rate = 0.4066\n",
      "Episode 70000 finished: reward rate = 0.3956\n",
      "Episode 75000 finished: reward rate = 0.4052\n",
      "Episode 80000 finished: reward rate = 0.404\n",
      "Episode 85000 finished: reward rate = 0.4122\n",
      "Episode 90000 finished: reward rate = 0.4004\n",
      "Episode 95000 finished: reward rate = 0.3952\n",
      "Episode 100000 finished: reward rate = 0.4102\n"
     ]
    }
   ],
   "source": [
    "import Discrete\n",
    "\n",
    "episodes = 100000\n",
    "block_size = int(episodes/20)\n",
    "eps = 0.5\n",
    "is_slippery = False\n",
    "\n",
    "# Create environment and initialize agent\n",
    "env = gym.make('FrozenLake-v0', is_slippery=is_slippery)\n",
    "Agent = Discrete.OnPolicyTDControl(env)\n",
    "steps, rewards = Agent.run(episodes, block_size=block_size, eps=eps)\n",
    "env.close()"
   ]
  },
  {
   "cell_type": "code",
   "execution_count": 158,
   "metadata": {},
   "outputs": [
    {
     "data": {
      "image/png": "[encoded data removed]",
      "text/plain": [
       "<Figure size 432x288 with 1 Axes>"
      ]
     },
     "metadata": {
      "image/png": {
       "height": 263,
       "width": 404
      },
      "needs_background": "light"
     },
     "output_type": "display_data"
    },
    {
     "data": {
      "text/plain": [
       "array([[0.16426529, 0.12195301, 0.12235333, 0.12233878],\n",
       "       [0.07444469, 0.08343221, 0.08180877, 0.11371498],\n",
       "       [0.11091212, 0.09524942, 0.10434697, 0.08662087],\n",
       "       [0.06571519, 0.06445309, 0.06516584, 0.08155548],\n",
       "       [0.20006075, 0.09261236, 0.12035494, 0.10124982],\n",
       "       [0.        , 0.        , 0.        , 0.        ],\n",
       "       [0.10812747, 0.05897639, 0.14569126, 0.0602927 ],\n",
       "       [0.        , 0.        , 0.        , 0.        ],\n",
       "       [0.11450138, 0.19228954, 0.11792514, 0.28776495],\n",
       "       [0.15604077, 0.46026169, 0.24759161, 0.15165943],\n",
       "       [0.5171681 , 0.21413357, 0.21884751, 0.14145654],\n",
       "       [0.        , 0.        , 0.        , 0.        ],\n",
       "       [0.        , 0.        , 0.        , 0.        ],\n",
       "       [0.3129726 , 0.32171442, 0.57876888, 0.2991372 ],\n",
       "       [0.45884918, 0.78821569, 0.48711318, 0.54906099],\n",
       "       [0.        , 0.        , 0.        , 0.        ]])"
      ]
     },
     "execution_count": 158,
     "metadata": {},
     "output_type": "execute_result"
    }
   ],
   "source": [
    "# Plot results\n",
    "\n",
    "# Calculate reward rate as the running average over a the number of trials specified by update_block\n",
    "reward_rate = np.convolve(rewards, np.ones(block_size), mode='valid') / block_size\n",
    "episode_number = np.arange(block_size, episodes+1)\n",
    "\n",
    "# Plot reward rate vs episodes\n",
    "plt.plot(episode_number, reward_rate, color='k')\n",
    "plt.ylabel('Reward rate')\n",
    "plt.xlabel('Episodes')\n",
    "plt.xlim(0, episodes)\n",
    "plt.ylim(0, np.max(reward_rate))\n",
    "plt.show()\n",
    "\n",
    "Agent.Q"
   ]
  },
  {
   "cell_type": "markdown",
   "metadata": {},
   "source": [
    "A few observations:\n",
    "- This environment is a bit tricky to use.  Rewards are very scarce, which means that learning is difficulty unless there is a lot of exploration.\n",
    "- Having a high epsilon is probably good for a while in order to encourage exploration. Once a sufficient number of rewards have been encountered, it might make sense to start to taper this towards 0.\n",
    "- Turning off randomness in the environment makes it very difficult to find a reward with a small epsilon\n",
    "- The maximum reward rate when the randomness is turned off tends to plateau at a little less than $1-\\epsilon$. When environmental randomness is on, the final reward rate is ~0.45 for $\\epsilon = 0.05$."
   ]
  },
  {
   "cell_type": "code",
   "execution_count": 173,
   "metadata": {},
   "outputs": [
    {
     "name": "stdout",
     "output_type": "stream",
     "text": [
      "Class: TDControl (base class)\n",
      "Class: Sarsa\n",
      "Class: Q-learning\n"
     ]
    }
   ],
   "source": [
    "# Test classes\n",
    "TDBase_Agent = Discrete.TDControl(env)\n",
    "Sarsa_Agent = Discrete.Sarsa(env)\n",
    "Q_Agent = Discrete.QLearning(env)\n",
    "\n",
    "TDBase_Agent.info()\n",
    "Sarsa_Agent.info()\n",
    "Q_Agent.info()"
   ]
  },
  {
   "cell_type": "code",
   "execution_count": 177,
   "metadata": {},
   "outputs": [
    {
     "name": "stdout",
     "output_type": "stream",
     "text": [
      "Episode 50 finished: reward rate = 0.0\n",
      "Episode 100 finished: reward rate = 0.0\n",
      "Episode 150 finished: reward rate = 0.0\n",
      "Episode 200 finished: reward rate = 0.0\n",
      "Episode 250 finished: reward rate = 0.0\n",
      "Episode 300 finished: reward rate = 0.0\n",
      "Episode 350 finished: reward rate = 0.0\n",
      "Episode 400 finished: reward rate = 0.0\n",
      "Episode 450 finished: reward rate = 0.0\n",
      "Episode 500 finished: reward rate = 0.02\n",
      "Episode 550 finished: reward rate = 0.0\n",
      "Episode 600 finished: reward rate = 0.02\n",
      "Episode 650 finished: reward rate = 0.02\n",
      "Episode 700 finished: reward rate = 0.22\n",
      "Episode 750 finished: reward rate = 0.32\n",
      "Episode 800 finished: reward rate = 0.24\n",
      "Episode 850 finished: reward rate = 0.28\n",
      "Episode 900 finished: reward rate = 0.32\n",
      "Episode 950 finished: reward rate = 0.32\n",
      "Episode 1000 finished: reward rate = 0.3\n"
     ]
    }
   ],
   "source": [
    "# Run Sarsa\n",
    "\n",
    "episodes = 1000\n",
    "block_size = int(episodes/20)\n",
    "eps = 0.5\n",
    "is_slippery = False\n",
    "\n",
    "# Create environment and initialize agent\n",
    "env = gym.make('FrozenLake-v0', is_slippery=is_slippery)\n",
    "Agent = Discrete.Sarsa(env)\n",
    "steps, rewards = Agent.run(episodes, block_size=block_size, eps=eps)\n",
    "env.close()"
   ]
  }
 ],
 "metadata": {
  "file_extension": ".py",
  "kernelspec": {
   "display_name": "Python 3",
   "language": "python",
   "name": "python3"
  },
  "language_info": {
   "codemirror_mode": {
    "name": "ipython",
    "version": 3
   },
   "file_extension": ".py",
   "mimetype": "text/x-python",
   "name": "python",
   "nbconvert_exporter": "python",
   "pygments_lexer": "ipython3",
   "version": "3.7.2"
  },
  "mimetype": "text/x-python",
  "name": "python",
  "npconvert_exporter": "python",
  "pygments_lexer": "ipython3",
  "version": 3
 },
 "nbformat": 4,
 "nbformat_minor": 2
}
