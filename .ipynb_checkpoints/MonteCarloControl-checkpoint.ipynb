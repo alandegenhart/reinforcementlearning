{
 "cells": [
  {
   "cell_type": "markdown",
   "metadata": {},
   "source": [
    "## Monte Carlo control -- simple example\n",
    "This notebook provides a working example of Monte Carlo control using a simple OpenAI maze task."
   ]
  },
  {
   "cell_type": "markdown",
   "metadata": {},
   "source": [
    "### Setup\n",
    "Here we load the required modules as well as some other standard ones that might be needed. The 'autoreload' command makes it so that external modules are re-loaded when used. This makes it easy to prototype modules."
   ]
  },
  {
   "cell_type": "code",
   "execution_count": 1,
   "metadata": {},
   "outputs": [
    {
     "name": "stdout",
     "output_type": "stream",
     "text": [
      "Open AI Gym version: 0.15.4\n"
     ]
    }
   ],
   "source": [
    "# Setup environment and import standard modules\n",
    "import numpy as np\n",
    "import matplotlib as mpl\n",
    "import matplotlib.pyplot as plt\n",
    "%matplotlib inline\n",
    "%config InlineBackend.figure_format = 'retina'\n",
    "\n",
    "# Import OpenAI Gym\n",
    "import gym\n",
    "print('Open AI Gym version: {}'.format(gym.__version__))\n",
    "\n",
    "# Autoreload (see https://ipython.readthedocs.io/en/stable/config/extensions/autoreload.html)\n",
    "%load_ext autoreload\n",
    "%autoreload"
   ]
  },
  {
   "cell_type": "markdown",
   "metadata": {},
   "source": [
    "### Test the frozen lake environment\n",
    "We'll start with a simple 4 x 4 frozen lake environment.  The goal here is to move from the starting point to the goal without falling into a hole.  Note that here the environment is the same every time (i.e., the 'holes' are in the same place), but the state transitions are probabilistic (meaning that you might not always transition to the desired state for a given action)."
   ]
  },
  {
   "cell_type": "code",
   "execution_count": 2,
   "metadata": {},
   "outputs": [
    {
     "name": "stdout",
     "output_type": "stream",
     "text": [
      "\n",
      "\u001b[41mS\u001b[0mFFF\n",
      "FHFH\n",
      "FFFH\n",
      "HFFG\n",
      "  (Up)\n",
      "\u001b[41mS\u001b[0mFFF\n",
      "FHFH\n",
      "FFFH\n",
      "HFFG\n",
      "  (Up)\n",
      "\u001b[41mS\u001b[0mFFF\n",
      "FHFH\n",
      "FFFH\n",
      "HFFG\n",
      "  (Right)\n",
      "S\u001b[41mF\u001b[0mFF\n",
      "FHFH\n",
      "FFFH\n",
      "HFFG\n",
      "  (Down)\n",
      "SFFF\n",
      "F\u001b[41mH\u001b[0mFH\n",
      "FFFH\n",
      "HFFG\n",
      "Episode finished after 4 timesteps (Reward: 0.0)\n"
     ]
    }
   ],
   "source": [
    "# Note that it is possible to turn the randomness on/off using the 'is_slippery' argument (True by default)\n",
    "env = gym.make('FrozenLake-v0', is_slippery=False)\n",
    "env.reset()\n",
    "max_steps = 100\n",
    "env.render()  # Render initial state\n",
    "for t in range(max_steps):\n",
    "    action = env.action_space.sample()  # Sample a random action\n",
    "    obs, reward, done, info = env.step(action)\n",
    "    env.render()\n",
    "    if done:\n",
    "        print('Episode finished after {} timesteps (Reward: {})'.format(t+1, reward))\n",
    "        break\n",
    "env.close()"
   ]
  },
  {
   "cell_type": "markdown",
   "metadata": {},
   "source": [
    "### Investigate the environment\n",
    "In order to set up the model, we need to know the size of the action space (the number of possible actions that can be taken), as well as the size of the observation space (the number of possible states in the environment)."
   ]
  },
  {
   "cell_type": "code",
   "execution_count": 3,
   "metadata": {},
   "outputs": [
    {
     "name": "stdout",
     "output_type": "stream",
     "text": [
      "Action space: Discrete(4)\n",
      "Observation space: Discrete(16)\n",
      "Sample action: 3\n",
      "Observation: 5\n"
     ]
    }
   ],
   "source": [
    "# Get action and observation space\n",
    "print('Action space: {}'.format(env.action_space))\n",
    "print('Observation space: {}'.format(env.observation_space))\n",
    "# Generate a sample action and observation\n",
    "print('Sample action: {}'.format(env.action_space.sample()))\n",
    "print('Observation: {}'.format(obs))"
   ]
  },
  {
   "cell_type": "markdown",
   "metadata": {},
   "source": [
    "This tells us that there are 4 possible action values (0-3), and 16 possible observation states (0-15).  This allows us to determine the size of the action-value space."
   ]
  },
  {
   "cell_type": "markdown",
   "metadata": {},
   "source": [
    "### On-policy first-visit Monte Carlo (MC) control\n",
    "The central idea behind MC control is to estimate the value of each action by sampling the environment. At the end of each episode, we calculate the return for each state visited and use these values to update the action values $Q(S_t, A_t)$ for each state. We'll use an $\\epsilon$-greedy policy where we take the action with the maximum value with probability $(1-\\epsilon)$ and select an action at random with probability $\\epsilon$. This will ensure that the agent continues to explore during the learning process."
   ]
  },
  {
   "cell_type": "code",
   "execution_count": 5,
   "metadata": {},
   "outputs": [
    {
     "name": "stdout",
     "output_type": "stream",
     "text": [
      "Episode 500 finished: Reward rate = 0.022\n",
      "Episode 1000 finished: Reward rate = 0.054\n",
      "Episode 1500 finished: Reward rate = 0.076\n",
      "Episode 2000 finished: Reward rate = 0.07\n",
      "Episode 2500 finished: Reward rate = 0.126\n",
      "Episode 3000 finished: Reward rate = 0.142\n",
      "Episode 3500 finished: Reward rate = 0.112\n",
      "Episode 4000 finished: Reward rate = 0.118\n",
      "Episode 4500 finished: Reward rate = 0.134\n",
      "Episode 5000 finished: Reward rate = 0.134\n",
      "Episode 5500 finished: Reward rate = 0.118\n",
      "Episode 6000 finished: Reward rate = 0.098\n",
      "Episode 6500 finished: Reward rate = 0.106\n",
      "Episode 7000 finished: Reward rate = 0.128\n",
      "Episode 7500 finished: Reward rate = 0.116\n",
      "Episode 8000 finished: Reward rate = 0.112\n",
      "Episode 8500 finished: Reward rate = 0.108\n",
      "Episode 9000 finished: Reward rate = 0.096\n",
      "Episode 9500 finished: Reward rate = 0.108\n",
      "Episode 10000 finished: Reward rate = 0.108\n"
     ]
    }
   ],
   "source": [
    "# Setup parameters -- control\n",
    "eps = 0.2  # Probability of selecting a random action\n",
    "gam = .95  # Reward discounting (gamma)\n",
    "\n",
    "# Setup parameters -- number of episodes\n",
    "episodes = 10000  # Number of episodes\n",
    "update_block = int(episodes/20)  # How often to display update messages\n",
    "\n",
    "# Create environment and get size/shape\n",
    "# Note: for testing purposes, pass the argument 'is_slippery=False'\n",
    "env = gym.make('FrozenLake-v0', is_slippery=True)\n",
    "n_actions = env.action_space.n\n",
    "n_states = env.observation_space.n\n",
    "\n",
    "# Initialize matrices used for control\n",
    "P = np.ones([n_states, n_actions]) / n_actions  # Policy (initialize to equal probability)\n",
    "Q = np.zeros([n_states, n_actions])  # Action values\n",
    "C = np.zeros([n_states, n_actions])  # Observation counter (used for computing value)\n",
    "\n",
    "# Initialize performance metrics\n",
    "episode_steps = np.zeros(episodes)  # Number of steps each episode\n",
    "episode_reward = np.zeros(episodes)  # Reward for each episode\n",
    "max_episode_steps = 1000  # Maximum number of steps per episode\n",
    "\n",
    "# Iterate over episodes\n",
    "env.reset()\n",
    "for i in range(episodes):\n",
    "    # Initialize state/action/reward and environment\n",
    "    R = np.zeros(max_episode_steps)\n",
    "    S = np.zeros(max_episode_steps, dtype=int)\n",
    "    A = np.zeros(max_episode_steps, dtype=int)\n",
    "\n",
    "    # Generate an episode\n",
    "    S[0] = env.reset()\n",
    "    for t in range(max_episode_steps):\n",
    "        # Sample the action and step\n",
    "        action = np.random.choice(range(n_actions), p=P[S[t], :])\n",
    "        obs, reward, done, info = env.step(action)\n",
    "\n",
    "        # Record outcome of action.  Note that the reward and new observation\n",
    "        # are associated with the *next* step\n",
    "        A[t] = action\n",
    "        R[t+1] = reward\n",
    "        S[t+1] = obs\n",
    "\n",
    "        # Check for end of episode\n",
    "        if done:\n",
    "            # Truncate matrices\n",
    "            A = A[0:t+2]\n",
    "            R = R[0:t+2]\n",
    "            S = S[0:t+2]\n",
    "            episode_steps[i] = t + 1\n",
    "            episode_reward[i] = reward\n",
    "            break\n",
    "    \n",
    "    # Update action-value and policy\n",
    "    T = t+1  # Number of time steps\n",
    "    G = 0\n",
    "    \n",
    "    # Step backwards through the episode, starting at T-1\n",
    "    for t in range(T-1, -1, -1):\n",
    "        # Compute discounted reward (return)\n",
    "        G = gam * G + R[t+1]\n",
    "\n",
    "        # Get state-action value\n",
    "        s = S[t]\n",
    "        a = A[t]\n",
    "\n",
    "        # Update value function if this is the first visit to (s, a)\n",
    "        if (s, a) not in zip(S[0:t-1], A[0:t-1]):\n",
    "            # Update action-value matrix\n",
    "            Q[s, a] = (Q[s, a] * C[s, a] + G)/(C[s, a] + 1)\n",
    "            C[s, a] += 1\n",
    "\n",
    "            # Update policy\n",
    "            mask = np.arange(n_actions) == np.argmax(Q[s, :])\n",
    "            P[s, mask] = 1 - eps + (eps/n_actions)\n",
    "            P[s, ~mask] = eps/n_actions\n",
    "\n",
    "    # Display update message\n",
    "    if ((i+1) % update_block) == 0:\n",
    "        reward_rate = sum(episode_reward[i - update_block + 1:i+1])/update_block\n",
    "        print('Episode {} finished: Reward rate = {}'.format(i+1, reward_rate))\n",
    "\n",
    "# Cleanup\n",
    "env.close()"
   ]
  },
  {
   "cell_type": "code",
   "execution_count": 6,
   "metadata": {},
   "outputs": [
    {
     "data": {
      "image/png": "[encoded data removed]",
      "text/plain": [
       "<Figure size 432x288 with 1 Axes>"
      ]
     },
     "metadata": {
      "image/png": {
       "height": 263,
       "width": 408
      },
      "needs_background": "light"
     },
     "output_type": "display_data"
    }
   ],
   "source": [
    "# Plot results\n",
    "\n",
    "# Calculate reward rate as the running average over a the number of trials specified by update_block\n",
    "reward_rate = np.convolve(episode_reward, np.ones(update_block), mode='valid')/update_block\n",
    "episode_number = np.arange(update_block, episodes+1)\n",
    "\n",
    "# Plot reward rate vs episodes\n",
    "plt.plot(episode_number, reward_rate, color='k')\n",
    "plt.ylabel('Reward rate')\n",
    "plt.xlabel('Episodes')\n",
    "plt.xlim(0, episodes)\n",
    "plt.ylim(0, np.max(reward_rate))\n",
    "plt.show()"
   ]
  },
  {
   "cell_type": "markdown",
   "metadata": {},
   "source": [
    "### Results\n",
    "It appears that the amount of learning that is observed is very dependent on whether or not a reward is encountered early on. In general, $\\gamma$ values close to 1 and $\\epsilon$ values around 0.2 seem to do best, resulting in a reward rate that asymptotes around 0.2 over 10000 trials. It is important to point out that the environment is quite stochastic, though. Turning this off causes the reward rate to jump dramatically, though how quickly this happens is dependent on randomly encountering a reward.\n",
    "\n",
    "A number of tweaks could potentially be used to improve performance. Some of these include:\n",
    "- Scheduling $\\epsilon$ to decrease with time (transition from exploration to exploitation)\n",
    "- Moving away from using a true average. Some sort of moving average that forgets old returns would likely help."
   ]
  }
 ],
 "metadata": {
  "file_extension": ".py",
  "kernelspec": {
   "display_name": "Python 3",
   "language": "python",
   "name": "python3"
  },
  "language_info": {
   "codemirror_mode": {
    "name": "ipython",
    "version": 3
   },
   "file_extension": ".py",
   "mimetype": "text/x-python",
   "name": "python",
   "nbconvert_exporter": "python",
   "pygments_lexer": "ipython3",
   "version": "3.7.2"
  },
  "mimetype": "text/x-python",
  "name": "python",
  "npconvert_exporter": "python",
  "pygments_lexer": "ipython3",
  "version": 3
 },
 "nbformat": 4,
 "nbformat_minor": 2
}
